{
 "cells": [
  {
   "cell_type": "code",
   "execution_count": null,
   "metadata": {},
   "outputs": [],
   "source": []
  },
  {
   "cell_type": "code",
   "execution_count": null,
   "metadata": {},
   "outputs": [
    {
     "name": "stdout",
     "output_type": "stream",
     "text": [
      "Collecting numpy==1.26\n",
      "  Downloading numpy-1.26.0-cp39-cp39-win_amd64.whl.metadata (61 kB)\n",
      "Downloading numpy-1.26.0-cp39-cp39-win_amd64.whl (15.8 MB)\n",
      "   ---------------------------------------- 0.0/15.8 MB ? eta -:--:--\n",
      "   -- ------------------------------------- 1.0/15.8 MB 16.7 MB/s eta 0:00:01\n",
      "   -- ------------------------------------- 1.0/15.8 MB 16.7 MB/s eta 0:00:01\n",
      "   -- ------------------------------------- 1.0/15.8 MB 16.7 MB/s eta 0:00:01\n",
      "   -- ------------------------------------- 1.0/15.8 MB 16.7 MB/s eta 0:00:01\n",
      "   -- ------------------------------------- 1.0/15.8 MB 16.7 MB/s eta 0:00:01\n",
      "   -- ------------------------------------- 1.0/15.8 MB 16.7 MB/s eta 0:00:01\n",
      "   -- ------------------------------------- 1.0/15.8 MB 16.7 MB/s eta 0:00:01\n",
      "   -- ------------------------------------- 1.0/15.8 MB 16.7 MB/s eta 0:00:01\n",
      "   -- ------------------------------------- 1.0/15.8 MB 16.7 MB/s eta 0:00:01\n",
      "   -- ------------------------------------- 1.0/15.8 MB 16.7 MB/s eta 0:00:01\n",
      "   ----- ---------------------------------- 2.1/15.8 MB 788.2 kB/s eta 0:00:18\n",
      "   ----- ---------------------------------- 2.1/15.8 MB 788.2 kB/s eta 0:00:18\n",
      "   ----- ---------------------------------- 2.1/15.8 MB 788.2 kB/s eta 0:00:18\n",
      "   ------- -------------------------------- 3.1/15.8 MB 1.0 MB/s eta 0:00:13\n",
      "   ---------- ----------------------------- 4.2/15.8 MB 1.3 MB/s eta 0:00:10\n",
      "   ---------- ----------------------------- 4.2/15.8 MB 1.3 MB/s eta 0:00:10\n",
      "   ------------- -------------------------- 5.2/15.8 MB 1.4 MB/s eta 0:00:08\n",
      "   ------------- -------------------------- 5.2/15.8 MB 1.4 MB/s eta 0:00:08\n",
      "   ------------- -------------------------- 5.2/15.8 MB 1.4 MB/s eta 0:00:08\n",
      "   ------------- -------------------------- 5.2/15.8 MB 1.4 MB/s eta 0:00:08\n",
      "   ------------- -------------------------- 5.2/15.8 MB 1.4 MB/s eta 0:00:08\n",
      "   ------------- -------------------------- 5.2/15.8 MB 1.4 MB/s eta 0:00:08\n",
      "   ------------- -------------------------- 5.2/15.8 MB 1.4 MB/s eta 0:00:08\n",
      "   ------------- -------------------------- 5.2/15.8 MB 1.4 MB/s eta 0:00:08\n",
      "   ------------- -------------------------- 5.2/15.8 MB 1.4 MB/s eta 0:00:08\n",
      "   ------------- -------------------------- 5.2/15.8 MB 1.4 MB/s eta 0:00:08\n",
      "   --------------- ------------------------ 6.3/15.8 MB 1.1 MB/s eta 0:00:10\n",
      "   --------------- ------------------------ 6.3/15.8 MB 1.1 MB/s eta 0:00:10\n",
      "   ------------------ --------------------- 7.3/15.8 MB 1.1 MB/s eta 0:00:08\n",
      "   ------------------ --------------------- 7.3/15.8 MB 1.1 MB/s eta 0:00:08\n",
      "   ------------------ --------------------- 7.3/15.8 MB 1.1 MB/s eta 0:00:08\n",
      "   ------------------ --------------------- 7.3/15.8 MB 1.1 MB/s eta 0:00:08\n",
      "   ------------------ --------------------- 7.3/15.8 MB 1.1 MB/s eta 0:00:08\n",
      "   ------------------ --------------------- 7.3/15.8 MB 1.1 MB/s eta 0:00:08\n",
      "   ------------------ --------------------- 7.3/15.8 MB 1.1 MB/s eta 0:00:08\n",
      "   ------------------ --------------------- 7.3/15.8 MB 1.1 MB/s eta 0:00:08\n",
      "   ------------------ --------------------- 7.3/15.8 MB 1.1 MB/s eta 0:00:08\n",
      "   ------------------ --------------------- 7.3/15.8 MB 1.1 MB/s eta 0:00:08\n",
      "   ------------------ --------------------- 7.3/15.8 MB 1.1 MB/s eta 0:00:08\n",
      "   ------------------ --------------------- 7.3/15.8 MB 1.1 MB/s eta 0:00:08\n",
      "   ------------------ --------------------- 7.3/15.8 MB 1.1 MB/s eta 0:00:08\n",
      "   ------------------ --------------------- 7.3/15.8 MB 1.1 MB/s eta 0:00:08\n",
      "   ------------------ --------------------- 7.3/15.8 MB 1.1 MB/s eta 0:00:08\n",
      "   ------------------ --------------------- 7.3/15.8 MB 1.1 MB/s eta 0:00:08\n",
      "   ------------------ --------------------- 7.3/15.8 MB 1.1 MB/s eta 0:00:08\n",
      "   ------------------- -------------------- 7.9/15.8 MB 774.8 kB/s eta 0:00:11\n",
      "   ----------------------- ---------------- 9.4/15.8 MB 920.4 kB/s eta 0:00:07\n",
      "   ----------------------- ---------------- 9.4/15.8 MB 920.4 kB/s eta 0:00:07\n",
      "   ----------------------- ---------------- 9.4/15.8 MB 920.4 kB/s eta 0:00:07\n",
      "   ----------------------- ---------------- 9.4/15.8 MB 920.4 kB/s eta 0:00:07\n",
      "   ----------------------- ---------------- 9.4/15.8 MB 920.4 kB/s eta 0:00:07\n",
      "   ----------------------- ---------------- 9.4/15.8 MB 920.4 kB/s eta 0:00:07\n",
      "   ----------------------- ---------------- 9.4/15.8 MB 920.4 kB/s eta 0:00:07\n",
      "   ----------------------- ---------------- 9.4/15.8 MB 920.4 kB/s eta 0:00:07\n",
      "   ----------------------- ---------------- 9.4/15.8 MB 920.4 kB/s eta 0:00:07\n",
      "   -------------------------- ------------- 10.5/15.8 MB 860.9 kB/s eta 0:00:07\n",
      "   -------------------------- ------------- 10.5/15.8 MB 860.9 kB/s eta 0:00:07\n",
      "   -------------------------- ------------- 10.5/15.8 MB 860.9 kB/s eta 0:00:07\n",
      "   ----------------------------- ---------- 11.5/15.8 MB 909.7 kB/s eta 0:00:05\n",
      "   ----------------------------- ---------- 11.5/15.8 MB 909.7 kB/s eta 0:00:05\n",
      "   ----------------------------- ---------- 11.5/15.8 MB 909.7 kB/s eta 0:00:05\n",
      "   ------------------------------ --------- 12.1/15.8 MB 891.4 kB/s eta 0:00:05\n",
      "   ------------------------------- -------- 12.6/15.8 MB 931.0 kB/s eta 0:00:04\n",
      "   ------------------------------- -------- 12.6/15.8 MB 931.0 kB/s eta 0:00:04\n",
      "   ---------------------------------- ----- 13.6/15.8 MB 972.3 kB/s eta 0:00:03\n",
      "   ---------------------------------- ----- 13.6/15.8 MB 972.3 kB/s eta 0:00:03\n",
      "   ---------------------------------- ----- 13.6/15.8 MB 972.3 kB/s eta 0:00:03\n",
      "   ---------------------------------- ----- 13.6/15.8 MB 972.3 kB/s eta 0:00:03\n",
      "   ---------------------------------- ----- 13.6/15.8 MB 972.3 kB/s eta 0:00:03\n",
      "   ---------------------------------- ----- 13.6/15.8 MB 972.3 kB/s eta 0:00:03\n",
      "   ---------------------------------- ----- 13.6/15.8 MB 972.3 kB/s eta 0:00:03\n",
      "   ---------------------------------- ----- 13.6/15.8 MB 972.3 kB/s eta 0:00:03\n",
      "   ---------------------------------- ----- 13.6/15.8 MB 972.3 kB/s eta 0:00:03\n",
      "   ----------------------------------- ---- 13.9/15.8 MB 861.2 kB/s eta 0:00:03\n",
      "   ------------------------------------- -- 14.7/15.8 MB 910.0 kB/s eta 0:00:02\n",
      "   ------------------------------------- -- 14.7/15.8 MB 910.0 kB/s eta 0:00:02\n",
      "   ------------------------------------- -- 14.7/15.8 MB 910.0 kB/s eta 0:00:02\n",
      "   ------------------------------------- -- 14.7/15.8 MB 910.0 kB/s eta 0:00:02\n",
      "   ------------------------------------- -- 14.7/15.8 MB 910.0 kB/s eta 0:00:02\n",
      "   ------------------------------------- -- 14.7/15.8 MB 910.0 kB/s eta 0:00:02\n",
      "   ---------------------------------------- 15.8/15.8 MB 899.9 kB/s eta 0:00:00\n",
      "Installing collected packages: numpy\n",
      "  Attempting uninstall: numpy\n",
      "    Found existing installation: numpy 2.0.2\n",
      "    Uninstalling numpy-2.0.2:\n",
      "      Successfully uninstalled numpy-2.0.2\n",
      "Successfully installed numpy-1.26.0\n",
      "Note: you may need to restart the kernel to use updated packages.\n"
     ]
    }
   ],
   "source": [
    "# pip install numpy==1.26\n"
   ]
  },
  {
   "cell_type": "code",
   "execution_count": 1,
   "metadata": {},
   "outputs": [],
   "source": [
    "import tensorflow as tf\n",
    "from tensorflow.keras.preprocessing.image import ImageDataGenerator\n",
    "import matplotlib.pyplot as plt\n",
    "import os\n",
    "import numpy as np\n",
    "from PIL import Image\n",
    "from sklearn.model_selection import train_test_split"
   ]
  },
  {
   "cell_type": "code",
   "execution_count": 2,
   "metadata": {},
   "outputs": [],
   "source": [
    "base_dir = \"datos\"\n",
    "fake_dir = os.path.join(base_dir, \"fake\")\n",
    "real_dir = os.path.join(base_dir, \"real\")\n",
    "\n",
    "def load_images_from_folder(folder, label):\n",
    "    images = []\n",
    "    labels = []\n",
    "    for filename in os.listdir(folder):\n",
    "        file_path = os.path.join(folder, filename)\n",
    "        try:\n",
    "            img = Image.open(file_path).convert(\"RGB\")  # Convertir a RGB\n",
    "            img = img.resize((224, 224))  # Redimensionar a 224x224\n",
    "            images.append(np.array(img))\n",
    "            labels.append(label)\n",
    "        except Exception as e:\n",
    "            print(f\"Error al cargar la imagen {file_path}: {e}\")\n",
    "    return images, labels\n",
    "\n",
    "fake_images, fake_labels = load_images_from_folder(fake_dir, 0)  # 0 para 'fake'\n",
    "real_images, real_labels = load_images_from_folder(real_dir, 1)  # 1 para 'real'\n",
    "\n",
    "\n",
    "X = np.array(fake_images + real_images)\n",
    "y = np.array(fake_labels + real_labels)\n"
   ]
  },
  {
   "cell_type": "code",
   "execution_count": 3,
   "metadata": {},
   "outputs": [
    {
     "data": {
      "image/png": "[encoded data removed]",
      "text/plain": [
       "<Figure size 600x600 with 1 Axes>"
      ]
     },
     "metadata": {},
     "output_type": "display_data"
    }
   ],
   "source": [
    "import numpy as np\n",
    "import matplotlib.pyplot as plt\n",
    "\n",
    "# Cantidades de cada clase\n",
    "fake_count = 1199  # Número de imágenes en la clase 'fake'\n",
    "real_count = 1200  # Número de imágenes en la clase 'real'\n",
    "\n",
    "# Etiquetas y cantidades\n",
    "labels = ['Fake', 'Real']\n",
    "counts = [fake_count, real_count]\n",
    "\n",
    "# Crear la gráfica de barras\n",
    "plt.figure(figsize=(6, 6))\n",
    "plt.bar(labels, counts, color=['orange', 'blue'], alpha=0.7)\n",
    "plt.title('Distribución de las Clases')\n",
    "plt.ylabel('Cantidad de Imágenes')\n",
    "plt.xlabel('Clases')\n",
    "plt.ylim(0, max(counts) + 100)  # Ajustar el límite superior para mayor claridad\n",
    "plt.grid(axis='y', linestyle='--', alpha=0.5)\n",
    "\n",
    "# Mostrar la gráfica\n",
    "plt.show()\n"
   ]
  },
  {
   "cell_type": "code",
   "execution_count": null,
   "metadata": {},
   "outputs": [],
   "source": [
    "X_train, X_temp, y_train, y_temp = train_test_split(X, y, test_size=0.3, random_state=42, stratify=y)\n",
    "\n",
    "# Dividir el restante (30%) en validación (50%) y prueba (50%)\n",
    "X_val, X_test, y_val, y_test = train_test_split(X_temp, y_temp, test_size=0.5, random_state=42, stratify=y_temp)\n",
    "\n",
    "# Confirmar las formas\n",
    "print(\"Entrenamiento:\", X_train.shape, y_train.shape)\n",
    "print(\"Validación:\", X_val.shape, y_val.shape)\n",
    "print(\"Prueba:\", X_test.shape, y_test.shape)\n"
   ]
  },
  {
   "cell_type": "code",
   "execution_count": null,
   "metadata": {},
   "outputs": [],
   "source": [
    "from tensorflow.keras.preprocessing.image import ImageDataGenerator\n",
    "\n",
    "# Generador con data augmentation para el conjunto de entrenamiento\n",
    "train_datagen = ImageDataGenerator(\n",
    "    rescale=1.0/255,          # Normalización\n",
    "    rotation_range=20,        # Rotación aleatoria\n",
    "    width_shift_range=0.2,    # Desplazamiento horizontal\n",
    "    height_shift_range=0.2,   # Desplazamiento vertical\n",
    "    zoom_range=0.2,           # Zoom aleatorio\n",
    "    horizontal_flip=True      # Inversión horizontal\n",
    ")\n",
    "\n",
    "# Generador sin data augmentation para validación y prueba\n",
    "val_test_datagen = ImageDataGenerator(rescale=1.0/255)\n",
    "\n",
    "# Crear generadores para cada conjunto\n",
    "train_generator = train_datagen.flow(\n",
    "    X_train, y_train,\n",
    "    batch_size=32,\n",
    "    shuffle=True\n",
    ")\n",
    "\n",
    "val_generator = val_test_datagen.flow(\n",
    "    X_val, y_val,\n",
    "    batch_size=32\n",
    ")\n",
    "\n",
    "test_generator = val_test_datagen.flow(\n",
    "    X_test, y_test,\n",
    "    batch_size=32\n",
    ")\n",
    "\n",
    "# Entrenamiento del modelo con data augmentation en el conjunto de entrenamiento\n",
    "\n"
   ]
  },
  {
   "cell_type": "code",
   "execution_count": null,
   "metadata": {},
   "outputs": [],
   "source": [
    "import tensorflow as tf\n",
    "from tensorflow.keras import layers, models\n",
    "from tensorflow.keras.optimizers import Adam\n",
    "model = models.Sequential([\n",
    "    layers.Conv2D(32, (3, 3), activation='relu', input_shape=(224, 224, 3)),\n",
    "    layers.MaxPooling2D((2, 2)),\n",
    "    layers.Conv2D(64, (3, 3), activation='relu'),\n",
    "    layers.MaxPooling2D((2, 2)),\n",
    "    layers.Conv2D(128, (3, 3), activation='relu'),\n",
    "    layers.MaxPooling2D((2, 2)),\n",
    "    layers.Flatten(),\n",
    "    layers.Dense(128, activation='relu'),\n",
    "    # layers.Dropout(0.3),\n",
    "    layers.Dense(1, activation='sigmoid')  \n",
    "])\n",
    "\n",
    "# Compilar el modelo\n",
    "with tf.device('/GPU:0'):\n",
    "    model.compile(optimizer=Adam(learning_rate=0.001),\n",
    "                loss='binary_crossentropy',\n",
    "                metrics=['accuracy'])\n",
    "\n",
    "# Entrenar el modelo\n",
    "with tf.device('/GPU:0'):\n",
    "    history = model.fit(\n",
    "        train_generator,\n",
    "        epochs=15,\n",
    "        validation_data=val_generator\n",
    "    )"
   ]
  },
  {
   "cell_type": "code",
   "execution_count": 6,
   "metadata": {},
   "outputs": [],
   "source": [
    "gpus = tf.config.list_physical_devices('GPU')\n",
    "if gpus:\n",
    "    try:\n",
    "        # Limitar el uso de la memoria de la GPU para evitar que se utilice toda\n",
    "        for gpu in gpus:\n",
    "            tf.config.experimental.set_memory_growth(gpu, True)\n",
    "    except RuntimeError as e:\n",
    "        print(e)"
   ]
  },
  {
   "cell_type": "code",
   "execution_count": 2,
   "metadata": {},
   "outputs": [
    {
     "name": "stdout",
     "output_type": "stream",
     "text": [
      "[PhysicalDevice(name='/physical_device:GPU:0', device_type='GPU')]\n"
     ]
    }
   ],
   "source": [
    "print(tf.config.list_physical_devices('GPU'))"
   ]
  }
 ],
 "metadata": {
  "kernelspec": {
   "display_name": "tensorgpu",
   "language": "python",
   "name": "python3"
  },
  "language_info": {
   "codemirror_mode": {
    "name": "ipython",
    "version": 3
   },
   "file_extension": ".py",
   "mimetype": "text/x-python",
   "name": "python",
   "nbconvert_exporter": "python",
   "pygments_lexer": "ipython3",
   "version": "3.9.20"
  }
 },
 "nbformat": 4,
 "nbformat_minor": 2
}
